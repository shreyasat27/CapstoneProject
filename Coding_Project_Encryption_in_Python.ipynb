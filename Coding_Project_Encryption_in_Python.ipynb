{
  "nbformat": 4,
  "nbformat_minor": 0,
  "metadata": {
    "colab": {
      "provenance": [],
      "include_colab_link": true
    },
    "kernelspec": {
      "name": "python3",
      "display_name": "Python 3"
    },
    "language_info": {
      "name": "python"
    }
  },
  "cells": [
    {
      "cell_type": "markdown",
      "metadata": {
        "id": "view-in-github",
        "colab_type": "text"
      },
      "source": [
        "<a href=\"https://colab.research.google.com/github/shreyasat27/CapstoneProject/blob/main/Coding_Project_Encryption_in_Python.ipynb\" target=\"_parent\"><img src=\"https://colab.research.google.com/assets/colab-badge.svg\" alt=\"Open In Colab\"/></a>"
      ]
    },
    {
      "cell_type": "markdown",
      "source": [
        "# **Coding Project: Encryption in Python**\n",
        "---\n",
        "\n",
        "### **Description**\n",
        "In this project, you will be writing code to encrypt and decrypt a message of your choice using a key generated through QKD.\n",
        "\n",
        "<br>"
      ],
      "metadata": {
        "id": "bKxy5QMFjWGo"
      }
    },
    {
      "cell_type": "code",
      "source": [
        "!pip install cirq --quiet\n",
        "import cirq\n",
        "from random import choices\n",
        "def QKD(num_bits):\n",
        "  #Setup\n",
        "  encode_gates = {0: cirq.I, 1: cirq.X}\n",
        "  basis_gates = {'Z': cirq.I, 'X': cirq.H}\n",
        "\n",
        "  qubits = cirq.NamedQubit.range(num_bits, prefix = 'q')\n",
        "\n",
        "  #Alice Chooses Bits and Bases\n",
        "  alice_key = choices([0, 1], k = num_bits)\n",
        "  alice_bases = choices(['Z', 'X'], k = num_bits)\n",
        "\n",
        "  #Alice Creates Qubits\n",
        "  alice_circuit = cirq.Circuit()\n",
        "\n",
        "  for bit in range(num_bits):\n",
        "\n",
        "    encode_value = alice_key[bit]\n",
        "    encode_gate = encode_gates[encode_value]\n",
        "\n",
        "    basis_value = alice_bases[bit]\n",
        "    basis_gate = basis_gates[basis_value]\n",
        "\n",
        "    qubit = qubits[bit]\n",
        "    alice_circuit.append(encode_gate(qubit))\n",
        "    alice_circuit.append(basis_gate(qubit))\n",
        "\n",
        "  #Bob chooses a Bases\n",
        "  bob_bases = choices(['Z', 'X'], k = num_bits)\n",
        "\n",
        "  bob_circuit = cirq.Circuit()\n",
        "\n",
        "  for bit in range(num_bits):\n",
        "\n",
        "    basis_value = bob_bases[bit]\n",
        "    basis_gate = basis_gates[basis_value]\n",
        "\n",
        "    qubit = qubits[bit]\n",
        "    bob_circuit.append(basis_gate(qubit))\n",
        "\n",
        "  #Bob Measures Qubits\n",
        "  bob_circuit.append(cirq.measure(qubits, key = 'bob key'))\n",
        "\n",
        "  #Bob Creates a Key\n",
        "  bb84_circuit = alice_circuit + bob_circuit\n",
        "\n",
        "  sim = cirq.Simulator()\n",
        "  results = sim.run(bb84_circuit)\n",
        "  bob_key = results.measurements['bob key'][0]\n",
        "\n",
        "  final_alice_key = []\n",
        "  final_bob_key = []\n",
        "\n",
        "  #Compare Bases\n",
        "  for bit in range(num_bits):\n",
        "\n",
        "    if alice_bases[bit] == bob_bases[bit]:\n",
        "      final_alice_key.append(alice_key[bit])\n",
        "      final_bob_key.append(bob_key[bit])\n",
        "\n",
        "  #Compare Half their Bits\n",
        "  num_bits_to_compare = int(len(final_alice_key) * .5)\n",
        "  if final_alice_key[0:num_bits_to_compare] == final_bob_key[0:num_bits_to_compare]:\n",
        "    final_alice_key = final_alice_key[num_bits_to_compare:]\n",
        "    final_bob_key = final_bob_key[num_bits_to_compare:]\n",
        "\n",
        "    print('\\n\\nWe can use our keys!')\n",
        "    print('Alice Key: ', final_alice_key)\n",
        "    print('Bob Key: ', final_bob_key)\n",
        "    return final_alice_key\n",
        "\n",
        "  else:\n",
        "    print('\\n\\nEve was listening, we need to use a different channel!')\n"
      ],
      "metadata": {
        "id": "P1FwDV7GQSiy",
        "colab": {
          "base_uri": "https://localhost:8080/"
        },
        "outputId": "8d860067-d072-4d90-e487-1178996b9aa8"
      },
      "execution_count": 1,
      "outputs": [
        {
          "output_type": "stream",
          "name": "stdout",
          "text": [
            "\u001b[2K     \u001b[90m━━━━━━━━━━━━━━━━━━━━━━━━━━━━━━━━━━━━━━━━\u001b[0m \u001b[32m1.8/1.8 MB\u001b[0m \u001b[31m8.4 MB/s\u001b[0m eta \u001b[36m0:00:00\u001b[0m\n",
            "\u001b[2K     \u001b[90m━━━━━━━━━━━━━━━━━━━━━━━━━━━━━━━━━━━━━━━━\u001b[0m \u001b[32m143.1/143.1 kB\u001b[0m \u001b[31m9.4 MB/s\u001b[0m eta \u001b[36m0:00:00\u001b[0m\n",
            "\u001b[2K     \u001b[90m━━━━━━━━━━━━━━━━━━━━━━━━━━━━━━━━━━━━━━━━\u001b[0m \u001b[32m598.8/598.8 kB\u001b[0m \u001b[31m7.4 MB/s\u001b[0m eta \u001b[36m0:00:00\u001b[0m\n",
            "\u001b[2K     \u001b[90m━━━━━━━━━━━━━━━━━━━━━━━━━━━━━━━━━━━━━━━━\u001b[0m \u001b[32m60.9/60.9 kB\u001b[0m \u001b[31m801.4 kB/s\u001b[0m eta \u001b[36m0:00:00\u001b[0m\n",
            "\u001b[2K     \u001b[90m━━━━━━━━━━━━━━━━━━━━━━━━━━━━━━━━━━━━━━━━\u001b[0m \u001b[32m66.2/66.2 kB\u001b[0m \u001b[31m7.4 MB/s\u001b[0m eta \u001b[36m0:00:00\u001b[0m\n",
            "\u001b[2K     \u001b[90m━━━━━━━━━━━━━━━━━━━━━━━━━━━━━━━━━━━━━━━━\u001b[0m \u001b[32m596.5/596.5 kB\u001b[0m \u001b[31m16.2 MB/s\u001b[0m eta \u001b[36m0:00:00\u001b[0m\n",
            "\u001b[2K     \u001b[90m━━━━━━━━━━━━━━━━━━━━━━━━━━━━━━━━━━━━━━━━\u001b[0m \u001b[32m223.8/223.8 kB\u001b[0m \u001b[31m16.0 MB/s\u001b[0m eta \u001b[36m0:00:00\u001b[0m\n",
            "\u001b[2K     \u001b[90m━━━━━━━━━━━━━━━━━━━━━━━━━━━━━━━━━━━━━━━━\u001b[0m \u001b[32m229.9/229.9 kB\u001b[0m \u001b[31m15.4 MB/s\u001b[0m eta \u001b[36m0:00:00\u001b[0m\n",
            "\u001b[?25h  Preparing metadata (setup.py) ... \u001b[?25l\u001b[?25hdone\n",
            "\u001b[2K     \u001b[90m━━━━━━━━━━━━━━━━━━━━━━━━━━━━━━━━━━━━━━━━\u001b[0m \u001b[32m151.7/151.7 kB\u001b[0m \u001b[31m14.5 MB/s\u001b[0m eta \u001b[36m0:00:00\u001b[0m\n",
            "\u001b[2K     \u001b[90m━━━━━━━━━━━━━━━━━━━━━━━━━━━━━━━━━━━━━━━━\u001b[0m \u001b[32m45.6/45.6 kB\u001b[0m \u001b[31m1.5 MB/s\u001b[0m eta \u001b[36m0:00:00\u001b[0m\n",
            "\u001b[?25h  Preparing metadata (setup.py) ... \u001b[?25l\u001b[?25hdone\n",
            "\u001b[2K     \u001b[90m━━━━━━━━━━━━━━━━━━━━━━━━━━━━━━━━━━━━━━━━\u001b[0m \u001b[32m1.6/1.6 MB\u001b[0m \u001b[31m20.7 MB/s\u001b[0m eta \u001b[36m0:00:00\u001b[0m\n",
            "\u001b[2K     \u001b[90m━━━━━━━━━━━━━━━━━━━━━━━━━━━━━━━━━━━━━━━━\u001b[0m \u001b[32m151.7/151.7 kB\u001b[0m \u001b[31m14.7 MB/s\u001b[0m eta \u001b[36m0:00:00\u001b[0m\n",
            "\u001b[2K     \u001b[90m━━━━━━━━━━━━━━━━━━━━━━━━━━━━━━━━━━━━━━━━\u001b[0m \u001b[32m151.7/151.7 kB\u001b[0m \u001b[31m16.1 MB/s\u001b[0m eta \u001b[36m0:00:00\u001b[0m\n",
            "\u001b[2K     \u001b[90m━━━━━━━━━━━━━━━━━━━━━━━━━━━━━━━━━━━━━━━━\u001b[0m \u001b[32m147.4/147.4 kB\u001b[0m \u001b[31m15.4 MB/s\u001b[0m eta \u001b[36m0:00:00\u001b[0m\n",
            "\u001b[2K     \u001b[90m━━━━━━━━━━━━━━━━━━━━━━━━━━━━━━━━━━━━━━━━\u001b[0m \u001b[32m147.4/147.4 kB\u001b[0m \u001b[31m15.1 MB/s\u001b[0m eta \u001b[36m0:00:00\u001b[0m\n",
            "\u001b[2K     \u001b[90m━━━━━━━━━━━━━━━━━━━━━━━━━━━━━━━━━━━━━━━━\u001b[0m \u001b[32m147.4/147.4 kB\u001b[0m \u001b[31m14.0 MB/s\u001b[0m eta \u001b[36m0:00:00\u001b[0m\n",
            "\u001b[2K     \u001b[90m━━━━━━━━━━━━━━━━━━━━━━━━━━━━━━━━━━━━━━━━\u001b[0m \u001b[32m142.7/142.7 kB\u001b[0m \u001b[31m12.7 MB/s\u001b[0m eta \u001b[36m0:00:00\u001b[0m\n",
            "\u001b[2K     \u001b[90m━━━━━━━━━━━━━━━━━━━━━━━━━━━━━━━━━━━━━━━━\u001b[0m \u001b[32m85.5/85.5 kB\u001b[0m \u001b[31m7.7 MB/s\u001b[0m eta \u001b[36m0:00:00\u001b[0m\n",
            "\u001b[2K     \u001b[90m━━━━━━━━━━━━━━━━━━━━━━━━━━━━━━━━━━━━━━━━\u001b[0m \u001b[32m85.1/85.1 kB\u001b[0m \u001b[31m7.9 MB/s\u001b[0m eta \u001b[36m0:00:00\u001b[0m\n",
            "\u001b[2K     \u001b[90m━━━━━━━━━━━━━━━━━━━━━━━━━━━━━━━━━━━━━━━━\u001b[0m \u001b[32m84.7/84.7 kB\u001b[0m \u001b[31m7.7 MB/s\u001b[0m eta \u001b[36m0:00:00\u001b[0m\n",
            "\u001b[2K     \u001b[90m━━━━━━━━━━━━━━━━━━━━━━━━━━━━━━━━━━━━━━━━\u001b[0m \u001b[32m83.6/83.6 kB\u001b[0m \u001b[31m7.9 MB/s\u001b[0m eta \u001b[36m0:00:00\u001b[0m\n",
            "\u001b[2K     \u001b[90m━━━━━━━━━━━━━━━━━━━━━━━━━━━━━━━━━━━━━━━━\u001b[0m \u001b[32m83.3/83.3 kB\u001b[0m \u001b[31m6.0 MB/s\u001b[0m eta \u001b[36m0:00:00\u001b[0m\n",
            "\u001b[2K     \u001b[90m━━━━━━━━━━━━━━━━━━━━━━━━━━━━━━━━━━━━━━━━\u001b[0m \u001b[32m83.4/83.4 kB\u001b[0m \u001b[31m8.3 MB/s\u001b[0m eta \u001b[36m0:00:00\u001b[0m\n",
            "\u001b[2K     \u001b[90m━━━━━━━━━━━━━━━━━━━━━━━━━━━━━━━━━━━━━━━━\u001b[0m \u001b[32m83.2/83.2 kB\u001b[0m \u001b[31m8.6 MB/s\u001b[0m eta \u001b[36m0:00:00\u001b[0m\n",
            "\u001b[2K     \u001b[90m━━━━━━━━━━━━━━━━━━━━━━━━━━━━━━━━━━━━━━━━\u001b[0m \u001b[32m82.5/82.5 kB\u001b[0m \u001b[31m9.5 MB/s\u001b[0m eta \u001b[36m0:00:00\u001b[0m\n",
            "\u001b[2K     \u001b[90m━━━━━━━━━━━━━━━━━━━━━━━━━━━━━━━━━━━━━━━━\u001b[0m \u001b[32m81.0/81.0 kB\u001b[0m \u001b[31m8.1 MB/s\u001b[0m eta \u001b[36m0:00:00\u001b[0m\n",
            "\u001b[2K     \u001b[90m━━━━━━━━━━━━━━━━━━━━━━━━━━━━━━━━━━━━━━━━\u001b[0m \u001b[32m81.0/81.0 kB\u001b[0m \u001b[31m8.7 MB/s\u001b[0m eta \u001b[36m0:00:00\u001b[0m\n",
            "\u001b[2K     \u001b[90m━━━━━━━━━━━━━━━━━━━━━━━━━━━━━━━━━━━━━━━━\u001b[0m \u001b[32m80.8/80.8 kB\u001b[0m \u001b[31m7.6 MB/s\u001b[0m eta \u001b[36m0:00:00\u001b[0m\n",
            "\u001b[2K     \u001b[90m━━━━━━━━━━━━━━━━━━━━━━━━━━━━━━━━━━━━━━━━\u001b[0m \u001b[32m80.7/80.7 kB\u001b[0m \u001b[31m8.8 MB/s\u001b[0m eta \u001b[36m0:00:00\u001b[0m\n",
            "\u001b[2K     \u001b[90m━━━━━━━━━━━━━━━━━━━━━━━━━━━━━━━━━━━━━━━━\u001b[0m \u001b[32m81.5/81.5 kB\u001b[0m \u001b[31m8.1 MB/s\u001b[0m eta \u001b[36m0:00:00\u001b[0m\n",
            "\u001b[2K     \u001b[90m━━━━━━━━━━━━━━━━━━━━━━━━━━━━━━━━━━━━━━━━\u001b[0m \u001b[32m90.4/90.4 kB\u001b[0m \u001b[31m8.3 MB/s\u001b[0m eta \u001b[36m0:00:00\u001b[0m\n",
            "\u001b[2K     \u001b[90m━━━━━━━━━━━━━━━━━━━━━━━━━━━━━━━━━━━━━━━━\u001b[0m \u001b[32m117.7/117.7 kB\u001b[0m \u001b[31m11.8 MB/s\u001b[0m eta \u001b[36m0:00:00\u001b[0m\n",
            "\u001b[2K     \u001b[90m━━━━━━━━━━━━━━━━━━━━━━━━━━━━━━━━━━━━━━━━\u001b[0m \u001b[32m60.6/60.6 kB\u001b[0m \u001b[31m5.4 MB/s\u001b[0m eta \u001b[36m0:00:00\u001b[0m\n",
            "\u001b[2K     \u001b[90m━━━━━━━━━━━━━━━━━━━━━━━━━━━━━━━━━━━━━━━━\u001b[0m \u001b[32m71.5/71.5 kB\u001b[0m \u001b[31m7.0 MB/s\u001b[0m eta \u001b[36m0:00:00\u001b[0m\n",
            "\u001b[2K     \u001b[90m━━━━━━━━━━━━━━━━━━━━━━━━━━━━━━━━━━━━━━━━\u001b[0m \u001b[32m3.1/3.1 MB\u001b[0m \u001b[31m25.8 MB/s\u001b[0m eta \u001b[36m0:00:00\u001b[0m\n",
            "\u001b[2K     \u001b[90m━━━━━━━━━━━━━━━━━━━━━━━━━━━━━━━━━━━━━━━━\u001b[0m \u001b[32m1.7/1.7 MB\u001b[0m \u001b[31m30.8 MB/s\u001b[0m eta \u001b[36m0:00:00\u001b[0m\n",
            "\u001b[2K     \u001b[90m━━━━━━━━━━━━━━━━━━━━━━━━━━━━━━━━━━━━━━━━\u001b[0m \u001b[32m117.8/117.8 kB\u001b[0m \u001b[31m14.3 MB/s\u001b[0m eta \u001b[36m0:00:00\u001b[0m\n",
            "\u001b[2K     \u001b[90m━━━━━━━━━━━━━━━━━━━━━━━━━━━━━━━━━━━━━━━━\u001b[0m \u001b[32m69.6/69.6 kB\u001b[0m \u001b[31m9.2 MB/s\u001b[0m eta \u001b[36m0:00:00\u001b[0m\n",
            "\u001b[2K     \u001b[90m━━━━━━━━━━━━━━━━━━━━━━━━━━━━━━━━━━━━━━━━\u001b[0m \u001b[32m526.7/526.7 kB\u001b[0m \u001b[31m31.1 MB/s\u001b[0m eta \u001b[36m0:00:00\u001b[0m\n",
            "\u001b[2K     \u001b[90m━━━━━━━━━━━━━━━━━━━━━━━━━━━━━━━━━━━━━━━━\u001b[0m \u001b[32m58.3/58.3 kB\u001b[0m \u001b[31m5.0 MB/s\u001b[0m eta \u001b[36m0:00:00\u001b[0m\n",
            "\u001b[?25h  Building wheel for lark (setup.py) ... \u001b[?25l\u001b[?25hdone\n",
            "  Building wheel for rpcq (setup.py) ... \u001b[?25l\u001b[?25hdone\n",
            "\u001b[31mERROR: pip's dependency resolver does not currently take into account all the packages that are installed. This behaviour is the source of the following dependency conflicts.\n",
            "referencing 0.34.0 requires attrs>=22.2.0, but you have attrs 21.4.0 which is incompatible.\u001b[0m\u001b[31m\n",
            "\u001b[0m"
          ]
        }
      ]
    },
    {
      "cell_type": "markdown",
      "source": [
        "### **Step 1**\n",
        "You will first need to create some data we would like to send."
      ],
      "metadata": {
        "id": "V6MnfKMnk3uR"
      }
    },
    {
      "cell_type": "code",
      "source": [
        "unencrypted_string = \"I want to be a quantum physicist.\""
      ],
      "metadata": {
        "id": "ewx6O2qXlY53"
      },
      "execution_count": 2,
      "outputs": []
    },
    {
      "cell_type": "markdown",
      "source": [
        "### **Step 2**\n",
        "Use the `QKD` function, defined above, to create a key for your data."
      ],
      "metadata": {
        "id": "3F0lspFulgT0"
      }
    },
    {
      "cell_type": "code",
      "source": [
        "key = QKD(len(unencrypted_string)*8)\n",
        "# Assuming key is already defined as a list\n",
        "key_length = len(unencrypted_string) * 8  # length of unencrypted_string * 8 bits per character\n",
        "\n",
        "# Repeat key to match the length of unencrypted_string * 8\n",
        "key = key * (key_length // len(key)) + key[:key_length % len(key)]\n",
        "\n",
        "# Now key is adjusted to match the length required\n",
        "print(len(unencrypted_string),len(key))\n",
        "print(key)"
      ],
      "metadata": {
        "id": "pw82euVmlgT0",
        "colab": {
          "base_uri": "https://localhost:8080/"
        },
        "outputId": "9cb4aae9-dc35-4c8b-e7ab-527eae15aed7"
      },
      "execution_count": 3,
      "outputs": [
        {
          "output_type": "stream",
          "name": "stdout",
          "text": [
            "\n",
            "\n",
            "We can use our keys!\n",
            "Alice Key:  [1, 1, 0, 0, 1, 1, 0, 0, 1, 1, 0, 1, 0, 1, 0, 0, 0, 0, 1, 0, 1, 0, 0, 1, 1, 0, 0, 1]\n",
            "Bob Key:  [1, 1, 0, 0, 1, 1, 0, 0, 1, 1, 0, 1, 0, 1, 0, 0, 0, 0, 1, 0, 1, 0, 0, 1, 1, 0, 0, 1]\n",
            "14 112\n",
            "[1, 1, 0, 0, 1, 1, 0, 0, 1, 1, 0, 1, 0, 1, 0, 0, 0, 0, 1, 0, 1, 0, 0, 1, 1, 0, 0, 1, 1, 1, 0, 0, 1, 1, 0, 0, 1, 1, 0, 1, 0, 1, 0, 0, 0, 0, 1, 0, 1, 0, 0, 1, 1, 0, 0, 1, 1, 1, 0, 0, 1, 1, 0, 0, 1, 1, 0, 1, 0, 1, 0, 0, 0, 0, 1, 0, 1, 0, 0, 1, 1, 0, 0, 1, 1, 1, 0, 0, 1, 1, 0, 0, 1, 1, 0, 1, 0, 1, 0, 0, 0, 0, 1, 0, 1, 0, 0, 1, 1, 0, 0, 1]\n"
          ]
        }
      ]
    },
    {
      "cell_type": "code",
      "source": [
        "#convert the message to binary message\n",
        "binary_message = ''.join(bin(ord(char))[2:].zfill(8) for char in unencrypted_string)\n",
        "print(len(binary_message))"
      ],
      "metadata": {
        "id": "B64Q71KbHAAq",
        "outputId": "4ae7ebd9-baf8-467b-906e-17189c172eda",
        "colab": {
          "base_uri": "https://localhost:8080/"
        }
      },
      "execution_count": 4,
      "outputs": [
        {
          "output_type": "stream",
          "name": "stdout",
          "text": [
            "112\n"
          ]
        }
      ]
    },
    {
      "cell_type": "markdown",
      "source": [
        "### **Step 3**\n",
        "---\n",
        "You will need to create a function that can now ecrypt your message using your key. You may import from any python libraries you like to define this function."
      ],
      "metadata": {
        "id": "N44Lm949l9R7"
      }
    },
    {
      "cell_type": "code",
      "source": [
        "def encrypt_message(message, key):\n",
        "    # Convert message to binary\n",
        "    binary_message = ''.join(bin(ord(char))[2:].zfill(8) for char in unencrypted_string)\n",
        "    print(len(binary_message), len(key))\n",
        "    #XOR the message with the key\n",
        "    encrypted_message = ''.join(str(int(binary_message[i]) ^ key[i]) for i in range(len(binary_message)))\n",
        "\n",
        "    return encrypted_message\n",
        "\n",
        "\n",
        "\n"
      ],
      "metadata": {
        "id": "zjGC1PCHTFe0"
      },
      "execution_count": 5,
      "outputs": []
    },
    {
      "cell_type": "markdown",
      "source": [
        "### **Step 4**\n",
        "\n",
        "You will need to create a function that can now decrypt your message using your key. You may import from any python libraries you like to define this function."
      ],
      "metadata": {
        "id": "AJwhQ7yUmwOy"
      }
    },
    {
      "cell_type": "code",
      "source": [
        "def decrypt_message(encrypted_message, key):\n",
        "    # XOR the encrypted message with the key\n",
        "    decrypted_message = ''.join(str(int(encrypted_message[i]) ^ key[i]) for i in range(len(encrypted_message)))\n",
        "\n",
        "    # Convert binary back to characters\n",
        "    decrypted_string = ''.join(chr(int(decrypted_message[i:i+8], 2)) for i in range(0, len(decrypted_message), 8))\n",
        "\n",
        "    return decrypted_string\n",
        "\n",
        "\n"
      ],
      "metadata": {
        "id": "P6rRL4JlTHfb"
      },
      "execution_count": 8,
      "outputs": []
    },
    {
      "cell_type": "markdown",
      "source": [
        "### **Step 5**\n",
        "---\n",
        "Write code to encrypt and decrypt your message using your key to ensure that you were successful."
      ],
      "metadata": {
        "id": "XwJqT-JTnBdS"
      }
    },
    {
      "cell_type": "code",
      "execution_count": 11,
      "metadata": {
        "id": "eKlKbyIll9SH",
        "colab": {
          "base_uri": "https://localhost:8080/"
        },
        "outputId": "18e65e26-83dd-4bfd-af23-cc3108e0b326"
      },
      "outputs": [
        {
          "output_type": "stream",
          "name": "stdout",
          "text": [
            "Original Message: I want a life.\n",
            "Encrypted Message: 1000010111110100010111101111110110100011001101101011100110101101111101000100010111110101101010110010011110110111\n",
            "Decrypted Message: I want a life.\n"
          ]
        }
      ],
      "source": [
        "# Encrypt the message\n",
        "#encrypted_msg = encrypt_message(unencrypted_string, key)\n",
        "\n",
        "# Decrypt the message\n",
        "#decrypted_msg = decrypt_message(encrypted_msg, key)\n",
        "\n",
        "print(\"Original Message:\", unencrypted_string)\n",
        "print(\"Encrypted Message:\", encrypted_msg)\n",
        "\n",
        "# Split the binary message into 8-bit segments\n",
        "binary_segments = [encrypted_msg[i:i+8] for i in range(0, len(encrypted_msg), 8)]\n",
        "\n",
        "# Convert each 8-bit segment back to its ASCII character representation\n",
        "decrypted_characters = [chr(int(segment, 2)) for segment in binary_segments]\n",
        "\n",
        "# Concatenate the characters to form the decrypted string\n",
        "decrypted_string = ''.join(decrypted_characters)\n",
        "\n",
        "#print(decrypted_string)\n",
        "\n",
        "print(\"Decrypted Message:\", decrypted_msg)\n"
      ]
    },
    {
      "cell_type": "markdown",
      "source": [
        "# End of Notebook\n",
        "\n",
        "---\n",
        "© 2024 The Coding School, All rights reserved"
      ],
      "metadata": {
        "id": "NGJhb6stUYCp"
      }
    }
  ]
}